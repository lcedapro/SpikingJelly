{
 "cells": [
  {
   "cell_type": "code",
   "execution_count": 7,
   "metadata": {},
   "outputs": [],
   "source": [
    "# paibox 和 spikingjelly 的推理结果比较，输出为 csv 文件\n",
    "# 需要修改数据集路径DVS128GESTURE_DATA_DIR\n",
    "import torch\n",
    "import numpy as np\n",
    "import paibox as pb\n",
    "import csv\n",
    "\n",
    "import numpy as np\n",
    "def b(c):\n",
    "    return np.random.randint(1,127,size=(c,))\n",
    "def t():\n",
    "    return np.random.randint(1,127,size=(1,))\n",
    "def k(out_channels,in_channels,kernel_h=5,kernel_w=5):\n",
    "    return np.random.randint(1,127,size=(out_channels,in_channels,kernel_h,kernel_w))\n",
    "def w(in_channels,out_channels):\n",
    "    return np.random.randint(1,127,size=(in_channels,out_channels))\n",
    "\n",
    "# PAIBox网络定义\n",
    "class Conv2d_Net(pb.Network):\n",
    "    def __init__(self, c):\n",
    "        super().__init__()\n",
    "\n",
    "        self.i0 = pb.InputProj(input=None, shape_out=(1, 86, 65))\n",
    "        self.i1 = pb.InputProj(input=None, shape_out=(1, 86, 65))\n",
    "\n",
    "        # s = stage, g = group, n = net\n",
    "\n",
    "        # stage 0 : downsample\n",
    "\n",
    "        self.s0_g0_n0 = pb.LIF((1, 21, 16), threshold=t(), reset_v=0, tick_wait_start=1) # convpool3x3\n",
    "        self.s0_g0_conv2d0 = pb.Conv2d(self.i0, self.s0_g0_n0, kernel=k(1,1,7,7), padding=1, stride=4)\n",
    "\n",
    "        self.s0_g0_n1 = pb.LIF((1, 21, 16), threshold=t(), reset_v=0, tick_wait_start=1) # convpool3x3\n",
    "        self.s0_g0_conv2d1 = pb.Conv2d(self.i0, self.s0_g0_n1, kernel=k(1,1,7,7), padding=1, stride=4)\n",
    "\n",
    "        self.s0_g1_n0 = pb.LIF((1, 21, 16), threshold=t(), reset_v=0, tick_wait_start=1) # convpool3x3\n",
    "        self.s0_g1_conv2d0 = pb.Conv2d(self.i1, self.s0_g1_n0, kernel=k(1,1,7,7), padding=1, stride=4)\n",
    "\n",
    "        self.s0_g1_n1 = pb.LIF((1, 21, 16), threshold=t(), reset_v=0, tick_wait_start=1) # convpool3x3\n",
    "        self.s0_g1_conv2d1 = pb.Conv2d(self.i1, self.s0_g1_n1, kernel=k(1,1,7,7), padding=1, stride=4)\n",
    "\n",
    "        # group shuffle\n",
    "\n",
    "        self.s1_g0_n0 = self.s0_g0_n0\n",
    "        self.s1_g0_n1 = self.s0_g1_n0\n",
    "        self.s1_g1_n0 = self.s0_g0_n1\n",
    "        self.s1_g1_n1 = self.s0_g1_n1\n",
    "\n",
    "\n",
    "        self.n1_0_0 = pb.LIF((1, 21, 16), threshold=t(), reset_v=0, tick_wait_start=2) # convpool3x3\n",
    "        self.conv2d_1_0_0_0 = pb.Conv2d(self.n0_0_0, self.n1_0_0, kernel=k(1,1,7,7), padding=3, stride=1)\n",
    "        self.conv2d_1_0_0_1 = pb.Conv2d(self.n0_0_1, self.n1_0_0, kernel=k(1,1,7,7), padding=3, stride=1)\n",
    "\n",
    "        self.n1_0_1 = pb.LIF((1, 21, 16), threshold=t(), reset_v=0, tick_wait_start=2) # convpool3x3\n",
    "        self.conv2d_1_0_1_0 = pb.Conv2d(self.n0_0_0, self.n1_0_1, kernel=k(1,1,7,7), padding=3, stride=1)\n",
    "        self.conv2d_1_0_1_1 = pb.Conv2d(self.n0_0_1, self.n1_0_1, kernel=k(1,1,7,7), padding=3, stride=1)\n",
    "\n",
    "        self.n1_1_0 = pb.LIF((1, 21, 16), threshold=t(), reset_v=0, tick_wait_start=2) # convpool3x3\n",
    "        self.conv2d_1_1_0_0 = pb.Conv2d(self.n0_1_0, self.n1_1_0, kernel=k(1,1,7,7), padding=3, stride=1)\n",
    "        self.conv2d_1_1_0_1 = pb.Conv2d(self.n0_1_1, self.n1_1_0, kernel=k(1,1,7,7), padding=3, stride=1)\n",
    "\n",
    "        self.n1_1_1 = pb.LIF((1, 21, 16), threshold=t(), reset_v=0, tick_wait_start=2) # convpool3x3\n",
    "        self.conv2d_1_1_1_0 = pb.Conv2d(self.n0_1_0, self.n1_1_1, kernel=k(1,1,7,7), padding=3, stride=1)\n",
    "        self.conv2d_1_1_1_1 = pb.Conv2d(self.n0_1_1, self.n1_1_1, kernel=k(1,1,7,7), padding=3, stride=1)\n",
    "\n",
    "        # self.n0_1_0 = pb.LIF((1, 21, 16), threshold=t(), reset_v=0, tick_wait_start=2) # conv3x3\n",
    "        # self.conv2d_1_0 = pb.Conv2d(self.n0_0_0, self.n0_1_0, kernel=k(2,2), padding=2, stride=1)\n",
    "\n",
    "        # self.n0_1 = pb.LIF((c, 28, 21), threshold=t(), reset_v=0, tick_wait_start=2) # conv3x3\n",
    "        # self.conv2d_1_1 = pb.Conv2d(self.n0_1, self.n1_1, kernel=k(c,c), padding=2, stride=1)\n",
    "\n",
    "        # self.n2 = pb.LIF((c*4, 14, 11), threshold=t(), reset_v=0, tick_wait_start=3) # convpool3x3\n",
    "        # # self.conv2d_2 = pb.Conv2d(self.n1, self.n2, kernel=k(c*4,c*2), padding=2, stride=2)\n",
    "        # self.conv2d_2_0 = pb.Conv2d(self.n1_0, self.n2, kernel=k(c*4,c), padding=2, stride=2)\n",
    "        # self.conv2d_2_1 = pb.Conv2d(self.n1_1, self.n2, kernel=k(c*4,c), padding=2, stride=2)\n",
    "\n",
    "        # self.n3 = pb.LIF((c*4, 14, 11), threshold=t(), reset_v=0, tick_wait_start=4) # conv3x3\n",
    "        # self.conv2d_3 = pb.Conv2d(self.n2, self.n3, kernel=k(c*4,c*4), padding=2, stride=1)\n",
    "\n",
    "        self.n10 = pb.LIF(c*8 * 8 * 8, threshold=t(), reset_v=0, tick_wait_start=5) # fc\n",
    "        self.fc_0_0_0 = pb.FullConn(self.n1_0_0, self.n10, conn_type=pb.SynConnType.All2All, weights=w(1*21*16,c*8*8*8))\n",
    "        self.fc_0_0_1 = pb.FullConn(self.n1_0_1, self.n10, conn_type=pb.SynConnType.All2All, weights=w(1*21*16,c*8*8*8))\n",
    "        self.fc_0_0_2 = pb.FullConn(self.n0_1_0, self.n10, conn_type=pb.SynConnType.All2All, weights=w(1*21*16,c*8*8*8))\n",
    "        self.fc_0_0_3 = pb.FullConn(self.n0_1_1, self.n10, conn_type=pb.SynConnType.All2All, weights=w(1*21*16,c*8*8*8))\n",
    "\n",
    "\n",
    "\n",
    "        self.n11 = pb.LIF(c*8 * 4 * 4, threshold=t(), reset_v=0, tick_wait_start=6) # fc\n",
    "        self.fc_1 = pb.FullConn(self.n10, self.n11, conn_type=pb.SynConnType.All2All, weights=w(c*8*8*8,c*8*4*4))\n",
    "\n",
    "        self.n12 = pb.LIF(80, threshold=t(), reset_v=0, tick_wait_start=7) # fc\n",
    "        self.fc_2 = pb.FullConn(self.n11, self.n12, conn_type=pb.SynConnType.All2All, weights=w(c*8*4*4,80))\n",
    "\n",
    "        self.probe1 = pb.Probe(self.n12, \"spike\")\n",
    "\n",
    "C = 2\n",
    "\n",
    "# PAIBox仿真器\n",
    "pb_net = Conv2d_Net(C)\n",
    "sim = pb.Simulator(pb_net)\n",
    "\n",
    "# test(test_num=50)\n",
    "pb.BACKEND_CONFIG.target_chip_addr = (0, 0)"
   ]
  },
  {
   "cell_type": "code",
   "execution_count": 8,
   "metadata": {},
   "outputs": [
    {
     "name": "stdout",
     "output_type": "stream",
     "text": [
      "Core required: 250\n"
     ]
    }
   ],
   "source": [
    "mapper = pb.Mapper()\n",
    "\n",
    "mapper.build(pb_net)\n",
    "\n",
    "# Core estimate only\n",
    "graph_info = mapper.compile(\n",
    "    weight_bit_optimization=True, grouping_optim_target=\"both\", core_estimate_only=True\n",
    ")\n",
    " \n",
    "# #N of cores required\n",
    "print(\"Core required:\", graph_info[\"n_core_required\"])\n",
    "\n",
    "# Clear all the results\n",
    "mapper.clear()"
   ]
  },
  {
   "cell_type": "code",
   "execution_count": 3,
   "metadata": {},
   "outputs": [
    {
     "name": "stdout",
     "output_type": "stream",
     "text": [
      "Core required: 897\n"
     ]
    }
   ],
   "source": [
    "mapper = pb.Mapper()\n",
    "\n",
    "mapper.build(pb_net)\n",
    "\n",
    "graph_info = mapper.compile(\n",
    "    weight_bit_optimization=True, grouping_optim_target=\"both\"\n",
    ")\n",
    "\n",
    "# #N of cores required\n",
    "print(\"Core required:\", graph_info[\"n_core_required\"])"
   ]
  },
  {
   "cell_type": "code",
   "execution_count": null,
   "metadata": {},
   "outputs": [],
   "source": [
    "mapper.export(\n",
    "    write_to_file=True, fp=\"./debug\", format=\"npy\", export_core_params=False\n",
    ")\n",
    "\n",
    "# Clear all the results\n",
    "mapper.clear()"
   ]
  }
 ],
 "metadata": {
  "kernelspec": {
   "display_name": "Python 3",
   "language": "python",
   "name": "python3"
  },
  "language_info": {
   "codemirror_mode": {
    "name": "ipython",
    "version": 3
   },
   "file_extension": ".py",
   "mimetype": "text/x-python",
   "name": "python",
   "nbconvert_exporter": "python",
   "pygments_lexer": "ipython3",
   "version": "3.10.1"
  },
  "orig_nbformat": 4
 },
 "nbformat": 4,
 "nbformat_minor": 2
}
