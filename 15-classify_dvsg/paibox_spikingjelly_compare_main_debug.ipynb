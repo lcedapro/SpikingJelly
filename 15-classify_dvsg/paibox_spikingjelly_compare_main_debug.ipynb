{
 "cells": [
  {
   "cell_type": "code",
   "execution_count": 26,
   "metadata": {},
   "outputs": [],
   "source": [
    "# paibox 和 spikingjelly 的推理结果比较，输出为 csv 文件\n",
    "# 需要修改数据集路径DVS128GESTURE_DATA_DIR\n",
    "import torch\n",
    "import numpy as np\n",
    "import paibox as pb\n",
    "import csv\n",
    "\n",
    "from spikingjelly.activation_based import neuron, functional, surrogate, layer\n",
    "from spikingjelly.datasets.dvs128_gesture import DVS128Gesture\n",
    "from torch.utils.data import DataLoader\n",
    "\n",
    "from infer_conv2int import PythonNet\n",
    "from voting import voting\n",
    "vthr_list = [53,146,134,118,124,97,151,76,113,99,121,90] # vthr from model_parameters_conv2int.py\n",
    "\n",
    "SIM_TIMESTEP = 4 # <=16\n",
    "DVS128GESTURE_DATA_DIR = '../15-classify_dvsg/DVS128Gesture'\n",
    "\n",
    "# Dataloader\n",
    "# test_set = DVS128Gesture(DVS128GESTURE_DATA_DIR, train=False, data_type='frame', split_by='number', duration=131072)\n",
    "# test_data_loader = DataLoader(\n",
    "#     dataset=test_set,\n",
    "#     batch_size=1,\n",
    "#     shuffle=False,\n",
    "#     num_workers=1,\n",
    "#     drop_last=False,\n",
    "#     pin_memory=True)\n",
    "\n",
    "# PAIBox网络定义\n",
    "class Conv2d_Net(pb.Network):\n",
    "    def __init__(self, channels):\n",
    "        super().__init__()\n",
    "\n",
    "        self.i0 = pb.InputProj(input=None, shape_out=(2, 64, 64))\n",
    "        # self.n0 = pb.LIF((channels*1, 64, 64), reset_v=0, tick_wait_start=1, threshold=1) # conv3x3\n",
    "        # self.conv2d_0 = pb.Conv2d(self.i0, self.n0, kernel=np.zeros((channels*1, 2, 5, 5)).astype(np.int8), padding=2, stride=1)\n",
    "\n",
    "        self.n1 = pb.LIF((channels*2, 32, 32), reset_v=0, tick_wait_start=1, threshold=1) # convpool3x3\n",
    "        self.conv2d_1 = pb.Conv2d(self.i0, self.n1, kernel=np.zeros((channels*2, 2, 5, 5)).astype(np.int8), padding=2, stride=2)\n",
    "\n",
    "        self.n2 = pb.LIF((channels*2, 32, 32), reset_v=0, tick_wait_start=2, threshold=1) # conv3x3\n",
    "        self.conv2d_2 = pb.Conv2d(self.n1, self.n2, kernel=np.zeros((channels*2, channels*2, 5, 5)).astype(np.int8), padding=2, stride=1)\n",
    "\n",
    "        self.n3 = pb.LIF((channels*4, 16, 16), reset_v=0, tick_wait_start=3, threshold=1) # convpool3x3\n",
    "        self.conv2d_3 = pb.Conv2d(self.n2, self.n3, kernel=np.zeros((channels*4, channels*2, 5, 5)).astype(np.int8), padding=2, stride=2)\n",
    "\n",
    "        self.n4 = pb.LIF((channels*4, 16, 16), reset_v=0, tick_wait_start=4, threshold=1) # conv3x3\n",
    "        self.conv2d_4 = pb.Conv2d(self.n3, self.n4, kernel=np.zeros((channels*4, channels*4, 5, 5)).astype(np.int8), padding=2, stride=1)\n",
    "\n",
    "        self.n5 = pb.LIF((channels*8, 8, 8), reset_v=0, tick_wait_start=5, threshold=1) # convpool3x3\n",
    "        self.conv2d_5 = pb.Conv2d(self.n4, self.n5, kernel=np.zeros((channels*8, channels*4, 5, 5)).astype(np.int8), padding=2, stride=2)\n",
    "\n",
    "        self.n6 = pb.LIF((channels*8, 8, 8), reset_v=0, tick_wait_start=6, threshold=1) # conv3x3\n",
    "        self.conv2d_6 = pb.Conv2d(self.n5, self.n6, kernel=np.zeros((channels*8, channels*8, 5, 5)).astype(np.int8), padding=2, stride=1)\n",
    "\n",
    "        self.n10 = pb.LIF(channels*8 * 4 * 4, reset_v=0, tick_wait_start=7, threshold=1) # fc\n",
    "        self.fc_0 = pb.FullConn(self.n6, self.n10, conn_type=pb.SynConnType.All2All)\n",
    "\n",
    "        self.n11 = pb.LIF(channels*8 * 4 * 4, reset_v=0, tick_wait_start=8, threshold=1) # fc\n",
    "        self.fc_1 = pb.FullConn(self.n10, self.n11, conn_type=pb.SynConnType.All2All)\n",
    "\n",
    "        self.n12 = pb.LIF(channels*8 * 4 * 4, reset_v=0, tick_wait_start=9, threshold=1) # fc\n",
    "        self.fc_1 = pb.FullConn(self.n11, self.n12, conn_type=pb.SynConnType.All2All)\n",
    "\n",
    "        self.n13 = pb.LIF(110, reset_v=0, tick_wait_start=10, threshold=1) # fc\n",
    "        self.fc_3 = pb.FullConn(self.n12, self.n13, conn_type=pb.SynConnType.All2All)\n",
    "\n",
    "        self.probe1 = pb.Probe(self.n13, \"spike\")\n",
    "\n",
    "# PAIBox仿真器\n",
    "pb_net = Conv2d_Net(4)\n",
    "sim = pb.Simulator(pb_net)\n",
    "\n",
    "\n",
    "# test(test_num=50)\n",
    "pb.BACKEND_CONFIG.target_chip_addr = (0, 0)\n",
    "\n",
    "# print(pb_net.conv2d_0.name)\n",
    "# print(type(pb_net.n0))\n",
    "# print(pb_net.n0.shape_in)\n",
    "# print(pb_net.n0.shape_out)\n",
    "# print(type(pb_net.n0[0,:,:]))\n",
    "# print(pb_net.n0[0,:,:].shape_in)\n",
    "# print(pb_net.n0[0,:,:].shape_out)\n",
    "# n1_0_1 = (pb_net.n11,pb_net.n11)\n",
    "# print(type(n1_0_1))"
   ]
  },
  {
   "cell_type": "code",
   "execution_count": 27,
   "metadata": {},
   "outputs": [],
   "source": [
    "mapper = pb.Mapper()\n",
    "\n",
    "mapper.build(pb_net)"
   ]
  },
  {
   "cell_type": "code",
   "execution_count": 28,
   "metadata": {},
   "outputs": [],
   "source": [
    "graph_info = mapper.compile(\n",
    "    weight_bit_optimization=True, grouping_optim_target=\"both\"\n",
    ")"
   ]
  },
  {
   "cell_type": "code",
   "execution_count": 29,
   "metadata": {},
   "outputs": [
    {
     "name": "stdout",
     "output_type": "stream",
     "text": [
      "Core required: 381\n"
     ]
    }
   ],
   "source": [
    "# #N of cores required\n",
    "print(\"Core required:\", graph_info[\"n_core_required\"])\n",
    "\n",
    "mapper.export(\n",
    "    write_to_file=True, fp=\"./debug\", format=\"npy\", export_core_params=False\n",
    ")\n",
    "\n",
    "# Clear all the results\n",
    "mapper.clear()"
   ]
  }
 ],
 "metadata": {
  "kernelspec": {
   "display_name": "Python 3",
   "language": "python",
   "name": "python3"
  },
  "language_info": {
   "codemirror_mode": {
    "name": "ipython",
    "version": 3
   },
   "file_extension": ".py",
   "mimetype": "text/x-python",
   "name": "python",
   "nbconvert_exporter": "python",
   "pygments_lexer": "ipython3",
   "version": "3.10.1"
  },
  "orig_nbformat": 4
 },
 "nbformat": 4,
 "nbformat_minor": 2
}
